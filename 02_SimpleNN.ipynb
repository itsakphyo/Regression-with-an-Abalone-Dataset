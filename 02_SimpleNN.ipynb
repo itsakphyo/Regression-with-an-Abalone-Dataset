{
 "cells": [
  {
   "cell_type": "code",
   "execution_count": 1,
   "id": "c81681b8",
   "metadata": {},
   "outputs": [],
   "source": [
    "import warnings\n",
    "warnings.filterwarnings(\"ignore\")"
   ]
  },
  {
   "cell_type": "code",
   "execution_count": 17,
   "id": "6d4dd3b3",
   "metadata": {},
   "outputs": [],
   "source": [
    "import pandas as pd\n",
    "import numpy as np\n",
    "import matplotlib.pyplot as plt\n",
    "from sklearn.preprocessing import StandardScaler, MinMaxScaler, RobustScaler\n",
    "from sklearn.model_selection import train_test_split\n",
    "from tensorflow.keras.models import Sequential\n",
    "from tensorflow.keras.layers import Dense\n",
    "from tensorflow.keras.optimizers import Adam\n",
    "from tensorflow.keras.callbacks import LearningRateScheduler\n",
    "import tensorflow.keras.backend as K"
   ]
  },
  {
   "cell_type": "code",
   "execution_count": 18,
   "id": "81e6c3fc",
   "metadata": {},
   "outputs": [],
   "source": [
    "main_df = pd.read_csv('./train.csv')\n",
    "main_test_df = pd.read_csv('./test.csv')"
   ]
  },
  {
   "cell_type": "code",
   "execution_count": 19,
   "id": "2edc8948",
   "metadata": {},
   "outputs": [],
   "source": [
    "def generate_features(df):\n",
    "    df['Min Whole Weight'] = df[['Whole weight', 'Whole weight.1', 'Whole weight.2']].min(axis=1)\n",
    "    df['Max Whole Weight'] = df[['Whole weight', 'Whole weight.1', 'Whole weight.2']].max(axis=1)\n",
    "    df['CV Length'] = df['Length'] / df['Length'].mean()\n",
    "\n",
    "    df['Aspect Ratio'] = df['Length'] / df['Diameter']\n",
    "    df['Shell Weight Ratio'] = df['Shell weight'] / df['Whole weight']\n",
    "    df['Density'] = df['Whole weight'] / (df['Length'] * df['Diameter'] * df['Height'])  # Assuming cylinder\n",
    "    df['Density'] = np.where(df['Density'] == np.inf, 0, df['Density'])\n",
    "    df['Volume'] = np.pi * (df['Diameter'] / 2) ** 2 * df['Height']  # Assuming cylinder\n",
    "    df['Length to Height Ratio'] = df['Length'] / df['Height']\n",
    "    df['Length to Height Ratio'] = np.where(df['Length to Height Ratio'] == np.inf, 0, df['Length to Height Ratio'])\n",
    "\n",
    "    df['Weight Diff Max-Min'] = df['Max Whole Weight'] - df['Min Whole Weight']\n",
    "    df['Avg Whole Weight'] = (df['Whole weight'] + df['Whole weight.1'] + df['Whole weight.2']) / 3\n",
    "    weight_std = df[['Whole weight', 'Whole weight.1', 'Whole weight.2']].std(axis=1)\n",
    "    df['Std Weight Measures'] = weight_std\n",
    "    df['CV Whole Weight'] = np.where(weight_std == 0, 0, weight_std / df['Avg Whole Weight'])\n",
    "\n",
    "    df['Is Male'] = df['Sex'].apply(lambda x: 1 if x == \"M\" else 0)\n",
    "    df['Is Female'] = df['Sex'].apply(lambda x: 1 if x == \"F\" else 0)\n",
    "    df['Is Infant'] = df['Sex'].apply(lambda x: 1 if x == \"I\" else 0)\n",
    "    \n",
    "\n",
    "    df['Length x Diameter'] = df['Length'] * df['Diameter']\n",
    "    df['Length x Height'] = df['Length'] * df['Height']\n",
    "    df['Diameter x Height'] = df['Diameter'] * df['Height']\n",
    "    df['Length x Shell Weight'] = df['Length'] * df['Shell weight']\n",
    "\n",
    "    return df"
   ]
  },
  {
   "cell_type": "code",
   "execution_count": 20,
   "id": "5db00a6f",
   "metadata": {},
   "outputs": [],
   "source": [
    "df = generate_features(main_df.copy())\n",
    "test_df = generate_features(main_test_df.copy())"
   ]
  },
  {
   "cell_type": "code",
   "execution_count": 21,
   "id": "f398dabf",
   "metadata": {},
   "outputs": [],
   "source": [
    "scaler = MinMaxScaler()\n",
    "numerical_features = ['Length', 'Diameter', 'Height', 'Whole weight',\n",
    "       'Whole weight.1', 'Whole weight.2', 'Shell weight',\n",
    "       'Min Whole Weight', 'Max Whole Weight', 'CV Length', 'Aspect Ratio',\n",
    "       'Shell Weight Ratio', 'Density', 'Volume', 'Length to Height Ratio',\n",
    "       'Weight Diff Max-Min', 'Avg Whole Weight', 'Std Weight Measures',\n",
    "       'CV Whole Weight','Length x Diameter', 'Length x Height', 'Diameter x Height',\n",
    "       'Length x Shell Weight']\n",
    "df[numerical_features] = scaler.fit_transform(df[numerical_features])\n",
    "test_df[numerical_features] = scaler.transform(test_df[numerical_features])"
   ]
  },
  {
   "cell_type": "code",
   "execution_count": 22,
   "id": "b2094d76",
   "metadata": {},
   "outputs": [],
   "source": [
    "train_df, valid_df = train_test_split(df, test_size=0.15, random_state=42)\n",
    "features = ['Is Male', 'Is Female', 'Is Infant'] + numerical_features\n",
    "target = ['Rings']"
   ]
  },
  {
   "cell_type": "code",
   "execution_count": 23,
   "id": "72e52977",
   "metadata": {},
   "outputs": [],
   "source": [
    "X_train, y_train = train_df[features], train_df[target]\n",
    "X_valid, y_valid = valid_df[features], valid_df[target]\n",
    "X_test = test_df[features]"
   ]
  },
  {
   "cell_type": "code",
   "execution_count": 24,
   "id": "f5d19e76",
   "metadata": {
    "scrolled": true
   },
   "outputs": [],
   "source": [
    "nn_model = Sequential([\n",
    "    Dense(units=64, activation='relu', input_dim=len(features)),\n",
    "    Dense(units=64, activation='relu'),\n",
    "    Dense(units=64, activation='relu'),\n",
    "    Dense(units=1, activation='relu')\n",
    "])"
   ]
  },
  {
   "cell_type": "code",
   "execution_count": 25,
   "id": "4cab686a",
   "metadata": {},
   "outputs": [],
   "source": [
    "def rmsle(y_true, y_pred):\n",
    "    first_log = K.log(K.clip(y_pred, K.epsilon(), None) + 1.)\n",
    "    second_log = K.log(K.clip(y_true, K.epsilon(), None) + 1.)\n",
    "    return K.sqrt(K.mean(K.square(first_log - second_log)))"
   ]
  },
  {
   "cell_type": "code",
   "execution_count": 26,
   "id": "3aab8cc6",
   "metadata": {},
   "outputs": [],
   "source": [
    "def lr_schedule(epoch):\n",
    "    lr = 0.0001\n",
    "    if epoch > 5:\n",
    "        lr *= 0.07\n",
    "    return lr"
   ]
  },
  {
   "cell_type": "code",
   "execution_count": 27,
   "id": "05d2a3e2",
   "metadata": {},
   "outputs": [],
   "source": [
    "lr_scheduler = LearningRateScheduler(lr_schedule)\n",
    "nn_model.compile(loss=rmsle)"
   ]
  },
  {
   "cell_type": "code",
   "execution_count": 28,
   "id": "c9534742",
   "metadata": {},
   "outputs": [
    {
     "name": "stdout",
     "output_type": "stream",
     "text": [
      "Epoch 1/8\n",
      "\u001b[1m9628/9628\u001b[0m \u001b[32m━━━━━━━━━━━━━━━━━━━━\u001b[0m\u001b[37m\u001b[0m \u001b[1m4s\u001b[0m 402us/step - loss: 0.3722 - val_loss: 0.1630 - learning_rate: 1.0000e-04\n",
      "Epoch 2/8\n",
      "\u001b[1m9628/9628\u001b[0m \u001b[32m━━━━━━━━━━━━━━━━━━━━\u001b[0m\u001b[37m\u001b[0m \u001b[1m4s\u001b[0m 394us/step - loss: 0.1568 - val_loss: 0.1487 - learning_rate: 1.0000e-04\n",
      "Epoch 3/8\n",
      "\u001b[1m9628/9628\u001b[0m \u001b[32m━━━━━━━━━━━━━━━━━━━━\u001b[0m\u001b[37m\u001b[0m \u001b[1m4s\u001b[0m 402us/step - loss: 0.1475 - val_loss: 0.1474 - learning_rate: 1.0000e-04\n",
      "Epoch 4/8\n",
      "\u001b[1m9628/9628\u001b[0m \u001b[32m━━━━━━━━━━━━━━━━━━━━\u001b[0m\u001b[37m\u001b[0m \u001b[1m4s\u001b[0m 399us/step - loss: 0.1463 - val_loss: 0.1461 - learning_rate: 1.0000e-04\n",
      "Epoch 5/8\n",
      "\u001b[1m9628/9628\u001b[0m \u001b[32m━━━━━━━━━━━━━━━━━━━━\u001b[0m\u001b[37m\u001b[0m \u001b[1m4s\u001b[0m 407us/step - loss: 0.1454 - val_loss: 0.1450 - learning_rate: 1.0000e-04\n",
      "Epoch 6/8\n",
      "\u001b[1m9628/9628\u001b[0m \u001b[32m━━━━━━━━━━━━━━━━━━━━\u001b[0m\u001b[37m\u001b[0m \u001b[1m4s\u001b[0m 397us/step - loss: 0.1453 - val_loss: 0.1446 - learning_rate: 1.0000e-04\n",
      "Epoch 7/8\n",
      "\u001b[1m9628/9628\u001b[0m \u001b[32m━━━━━━━━━━━━━━━━━━━━\u001b[0m\u001b[37m\u001b[0m \u001b[1m4s\u001b[0m 403us/step - loss: 0.1448 - val_loss: 0.1444 - learning_rate: 7.0000e-06\n",
      "Epoch 8/8\n",
      "\u001b[1m9628/9628\u001b[0m \u001b[32m━━━━━━━━━━━━━━━━━━━━\u001b[0m\u001b[37m\u001b[0m \u001b[1m4s\u001b[0m 398us/step - loss: 0.1446 - val_loss: 0.1445 - learning_rate: 7.0000e-06\n"
     ]
    }
   ],
   "source": [
    "history = nn_model.fit(X_train, y_train, epochs=8, batch_size=8, validation_data=(X_valid, y_valid), callbacks=[lr_scheduler])"
   ]
  },
  {
   "cell_type": "code",
   "execution_count": 29,
   "id": "2fd40648",
   "metadata": {},
   "outputs": [],
   "source": [
    "loss_list = history.history['val_loss']"
   ]
  },
  {
   "cell_type": "code",
   "execution_count": 30,
   "id": "4188188e",
   "metadata": {},
   "outputs": [
    {
     "name": "stdout",
     "output_type": "stream",
     "text": [
      "Validation Loss: 0.14447546005249023\n"
     ]
    }
   ],
   "source": [
    "print ('Validation Loss:', loss_list[-1])"
   ]
  },
  {
   "cell_type": "code",
   "execution_count": 31,
   "id": "1148058f",
   "metadata": {},
   "outputs": [
    {
     "data": {
      "image/png": "[encoded data removed]",
      "text/plain": [
       "<Figure size 1000x500 with 1 Axes>"
      ]
     },
     "metadata": {},
     "output_type": "display_data"
    }
   ],
   "source": [
    "plt.figure(figsize=(10, 5))\n",
    "plt.plot(history.history['loss'], label='Training Loss')\n",
    "plt.plot(history.history['val_loss'], label='Validation Loss')\n",
    "plt.xlabel('Epoch')\n",
    "plt.ylabel('Loss')\n",
    "plt.title('Training and Validation Loss')\n",
    "plt.legend()\n",
    "plt.show()"
   ]
  },
  {
   "cell_type": "markdown",
   "id": "88c69627",
   "metadata": {},
   "source": [
    "y_test = nn_model.predict(X_test)\n",
    "y_test = np.ceil(y_test)\n",
    "submission = pd.DataFrame()\n",
    "submission['id'] = test_df['id']\n",
    "submission['Rings'] = y_test\n",
    "submission.to_csv('submission.csv', index=False)"
   ]
  }
 ],
 "metadata": {
  "kernelspec": {
   "display_name": "googleStock",
   "language": "python",
   "name": "googlestock"
  },
  "language_info": {
   "codemirror_mode": {
    "name": "ipython",
    "version": 3
   },
   "file_extension": ".py",
   "mimetype": "text/x-python",
   "name": "python",
   "nbconvert_exporter": "python",
   "pygments_lexer": "ipython3",
   "version": "3.11.6"
  }
 },
 "nbformat": 4,
 "nbformat_minor": 5
}
